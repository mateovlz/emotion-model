{
 "cells": [
  {
   "cell_type": "markdown",
   "metadata": {},
   "source": [
    "## Hi Human\n",
    "\n",
    "The idea of this notebook it's to test the endpoint that analyze the sentiment on a phrase"
   ]
  },
  {
   "cell_type": "code",
   "execution_count": 30,
   "metadata": {},
   "outputs": [],
   "source": [
    "import requests\n",
    "\n",
    "# Define the endpoint URL\n",
    "url = \"http://localhost:8000\" #Please verify in what PORT are you running the docker container"
   ]
  },
  {
   "cell_type": "markdown",
   "metadata": {},
   "source": [
    "- Executed the healthcheck enpoint validation"
   ]
  },
  {
   "cell_type": "code",
   "execution_count": 31,
   "metadata": {},
   "outputs": [
    {
     "name": "stdout",
     "output_type": "stream",
     "text": [
      "Results: {'data': 'Im working just fine'}\n"
     ]
    }
   ],
   "source": [
    "# We executed the healthcheck endpoint to verify \n",
    "# the server is up and running\n",
    "\n",
    "# Request prediction to the endpoint\n",
    "response_healhtcheck = requests.get(url+\"/healthcheck\")\n",
    "\n",
    "# We check if the request was successfull \n",
    "if response_healhtcheck.status_code == 200:\n",
    "    print(\"Results:\", response_healhtcheck.json())\n",
    "else:\n",
    "    print(\"Error:\", response_healhtcheck.status_code, response_healhtcheck.json())"
   ]
  },
  {
   "cell_type": "markdown",
   "metadata": {},
   "source": [
    "- We executed the prediction model enpoint"
   ]
  },
  {
   "cell_type": "code",
   "execution_count": null,
   "metadata": {},
   "outputs": [
    {
     "name": "stdout",
     "output_type": "stream",
     "text": [
      "Results: {'result': {'joy': 0.8972898125648499, 'excitement': 0.04351485148072243, 'admiration': 0.031632743775844574, 'neutral': 0.028489697724580765, 'approval': 0.026137927547097206, 'relief': 0.02088540978729725, 'amusement': 0.02072627656161785, 'love': 0.019570492208003998, 'caring': 0.01108087319880724, 'gratitude': 0.010287879034876823, 'realization': 0.007988565601408482, 'optimism': 0.006343211978673935, 'pride': 0.005554097704589367, 'sadness': 0.004929653834551573, 'annoyance': 0.004669728223234415, 'disapproval': 0.003490071278065443, 'confusion': 0.0033229663968086243, 'desire': 0.0032013875897973776, 'nervousness': 0.0024353698827326298, 'anger': 0.002337816869840026, 'surprise': 0.002200122456997633, 'curiosity': 0.0020934746135026217, 'disappointment': 0.0018736262572929263, 'grief': 0.0012028843630105257, 'remorse': 0.0010789035586640239, 'fear': 0.0010517084738239646, 'embarrassment': 0.0009777951054275036, 'disgust': 0.0006715373019687831}}\n"
     ]
    }
   ],
   "source": [
    "# We define the text that our model will execute\n",
    "data = {\n",
    "    \"text\": \"Everything I see Lily my hearts just fill with joy\"\n",
    "}\n",
    "\n",
    "# Request prediction to the endpoint\n",
    "response = requests.post(url+\"/predict\", json=data)\n",
    "\n",
    "# We check if the request was successfull \n",
    "if response.status_code == 200:\n",
    "    print(\"Emotions:\", response.json())\n",
    "else:\n",
    "    print(\"Error:\", response.status_code, response.json())"
   ]
  }
 ],
 "metadata": {
  "kernelspec": {
   "display_name": "Python 3",
   "language": "python",
   "name": "python3"
  },
  "language_info": {
   "codemirror_mode": {
    "name": "ipython",
    "version": 3
   },
   "file_extension": ".py",
   "mimetype": "text/x-python",
   "name": "python",
   "nbconvert_exporter": "python",
   "pygments_lexer": "ipython3",
   "version": "3.9.6"
  }
 },
 "nbformat": 4,
 "nbformat_minor": 2
}
